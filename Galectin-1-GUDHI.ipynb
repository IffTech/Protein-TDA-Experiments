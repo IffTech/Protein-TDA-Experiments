{
 "cells": [
  {
   "cell_type": "code",
   "execution_count": 1,
   "id": "c96fa8a4-0c8d-4d1b-88ba-190e63d33798",
   "metadata": {},
   "outputs": [],
   "source": [
    "import numpy as np\n",
    "import gudhi as gd"
   ]
  },
  {
   "cell_type": "code",
   "execution_count": 2,
   "id": "621d0b7f-90cd-4b2a-9261-9901cfcaae66",
   "metadata": {
    "tags": []
   },
   "outputs": [],
   "source": [
    "with open(\"pdb1gzw.ent\", mode=\"r\") as f:\n",
    "    lines_with_atoms = []\n",
    "    for line in f:\n",
    "        if line.startswith(\"ATOM\"):\n",
    "            lines_with_atoms.append(line.split()[6:9])\n",
    "\n",
    "atom_coords = []\n",
    "for l in lines_with_atoms:\n",
    "    x = []\n",
    "    for floating_str_val in l:\n",
    "        x.append(float(floating_str_val))\n",
    "    atom_coords.append(x)\n",
    "    \n",
    "#atom_coords = np.array(atom_coords)"
   ]
  },
  {
   "cell_type": "code",
   "execution_count": 9,
   "id": "75b6f46a-f365-4b51-a7a3-5fe8b714a761",
   "metadata": {},
   "outputs": [
    {
     "data": {
      "text/plain": [
       "2044"
      ]
     },
     "execution_count": 9,
     "metadata": {},
     "output_type": "execute_result"
    }
   ],
   "source": [
    "len(atom_coords)"
   ]
  },
  {
   "cell_type": "code",
   "execution_count": null,
   "id": "10ddc075-ddbd-4972-960f-ff4bc21a581e",
   "metadata": {},
   "outputs": [],
   "source": [
    "# Followign cells come from an initial experiemnt to generate\n",
    "# a distance matrix but this didn't really get used any further\n",
    "# because GUDHI supports taking the raw point cloud (so no need \n",
    "# to do any more processign on my end)"
   ]
  },
  {
   "cell_type": "code",
   "execution_count": 4,
   "id": "25786012-eb73-475f-9ba9-c6167d707cc8",
   "metadata": {},
   "outputs": [],
   "source": [
    "from scipy.spatial.distance import pdist"
   ]
  },
  {
   "cell_type": "code",
   "execution_count": 10,
   "id": "8b1ad59e-736d-4c45-9582-5504a269e678",
   "metadata": {},
   "outputs": [
    {
     "data": {
      "text/plain": [
       "64.18820435251324"
      ]
     },
     "execution_count": 10,
     "metadata": {},
     "output_type": "execute_result"
    }
   ],
   "source": [
    "pdist(atom_coords, 'euclidean').max()"
   ]
  },
  {
   "cell_type": "code",
   "execution_count": 8,
   "id": "51ccaf3e-00ee-4ba7-bcb0-fc4647fc9247",
   "metadata": {},
   "outputs": [
    {
     "data": {
      "text/plain": [
       "(2087946,)"
      ]
     },
     "execution_count": 8,
     "metadata": {},
     "output_type": "execute_result"
    }
   ],
   "source": [
    "pdist(atom_coords).shape"
   ]
  },
  {
   "cell_type": "code",
   "execution_count": 11,
   "id": "7aaba95c-c970-41e7-913f-b2e74e681ce4",
   "metadata": {},
   "outputs": [],
   "source": [
    "skeleton_protein0 = gd.RipsComplex(atom_coords)"
   ]
  },
  {
   "cell_type": "code",
   "execution_count": null,
   "id": "cc28e2be-86e6-4cb2-8c08-315c68149a11",
   "metadata": {},
   "outputs": [],
   "source": [
    "# This is incredibly resource intensive!\n",
    "# The kernel will usually automatically terminate,\n",
    "# further experimentation with max_edge_length arg might be necessary?\n",
    "Rips_simplex_tree_protein0 = skeleton_protein0.create_simplex_tree(max_dimension = 3)"
   ]
  },
  {
   "cell_type": "code",
   "execution_count": null,
   "id": "bc0ff146-a9b7-4bd2-bcff-123670cd5ffd",
   "metadata": {},
   "outputs": [],
   "source": [
    "BarCodes_Rips0 = Rips_simplex_tree_protein0.persistence()"
   ]
  },
  {
   "cell_type": "code",
   "execution_count": null,
   "id": "0e5a02bb-c2a5-40d7-93ea-9f91942315dc",
   "metadata": {},
   "outputs": [],
   "source": [
    "for i in range(20):\n",
    "    print(BarCodes_Rips0[i])"
   ]
  },
  {
   "cell_type": "code",
   "execution_count": null,
   "id": "67ed00dc-b7f6-419d-b347-34ee13994e29",
   "metadata": {},
   "outputs": [],
   "source": [
    "Rips_simplex_tree_protein0.persistence_intervals_in_dimension(0)"
   ]
  },
  {
   "cell_type": "code",
   "execution_count": null,
   "id": "80ac5933-89fd-49c9-ab0d-89226c43e945",
   "metadata": {},
   "outputs": [],
   "source": [
    "gd.plot_persistence_diagram(BarCodes_Rips0);"
   ]
  }
 ],
 "metadata": {
  "kernelspec": {
   "display_name": "Python 3",
   "language": "python",
   "name": "python3"
  },
  "language_info": {
   "codemirror_mode": {
    "name": "ipython",
    "version": 3
   },
   "file_extension": ".py",
   "mimetype": "text/x-python",
   "name": "python",
   "nbconvert_exporter": "python",
   "pygments_lexer": "ipython3",
   "version": "3.10.4"
  }
 },
 "nbformat": 4,
 "nbformat_minor": 5
}
