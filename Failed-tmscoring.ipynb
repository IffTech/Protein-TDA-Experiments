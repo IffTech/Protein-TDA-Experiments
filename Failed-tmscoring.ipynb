{
 "cells": [
  {
   "cell_type": "markdown",
   "id": "2a172c24-b552-4b75-9c5c-1278ee880fc6",
   "metadata": {},
   "source": [
    "## Failed TM-Score Attempt \n",
    "\n",
    "* The original \".sdf\" files for Proline and Azetidine-2-COOH\" had to be converted to PDB's via OpenBabel (per the `tmscoring` documentation only .pdb's are accepted)"
   ]
  },
  {
   "cell_type": "code",
   "execution_count": 8,
   "id": "c5ecbc75-70c7-4f23-bcdb-30ca599858af",
   "metadata": {},
   "outputs": [],
   "source": [
    "import tmscoring"
   ]
  },
  {
   "cell_type": "code",
   "execution_count": 11,
   "id": "a497e04b-4740-4eae-905e-54b1c405a8b4",
   "metadata": {},
   "outputs": [],
   "source": [
    "alignment = tmscoring.TMscoring('Proline.pdb', 'Azetidine-2-COOH.pdb')"
   ]
  },
  {
   "cell_type": "code",
   "execution_count": 12,
   "id": "b29db322-417e-440a-aa3f-a84ad97a14f8",
   "metadata": {},
   "outputs": [
    {
     "data": {
      "text/plain": [
       "(1.1369247631813801-0.03763539524235194j)"
      ]
     },
     "execution_count": 12,
     "metadata": {},
     "output_type": "execute_result"
    }
   ],
   "source": [
    "alignment.tmscore(**alignment.get_current_values())"
   ]
  }
 ],
 "metadata": {
  "kernelspec": {
   "display_name": "Python 3",
   "language": "python",
   "name": "python3"
  },
  "language_info": {
   "codemirror_mode": {
    "name": "ipython",
    "version": 3
   },
   "file_extension": ".py",
   "mimetype": "text/x-python",
   "name": "python",
   "nbconvert_exporter": "python",
   "pygments_lexer": "ipython3",
   "version": "3.10.4"
  }
 },
 "nbformat": 4,
 "nbformat_minor": 5
}
