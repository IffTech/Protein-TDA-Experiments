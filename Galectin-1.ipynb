{
 "cells": [
  {
   "cell_type": "markdown",
   "id": "be8ed991-7e20-4123-bf27-933643a766af",
   "metadata": {},
   "source": [
    "## Applying Ripser to Galectin-1"
   ]
  },
  {
   "cell_type": "code",
   "execution_count": 2,
   "id": "cdb3c3dc-187c-402d-8db4-2ee1a549539d",
   "metadata": {},
   "outputs": [],
   "source": [
    "import re\n",
    "import numpy as np"
   ]
  },
  {
   "cell_type": "code",
   "execution_count": 3,
   "id": "f9533ebd-ce0d-4b42-9d75-00898c05eddb",
   "metadata": {},
   "outputs": [],
   "source": [
    "with open(\"pdb1gzw.ent\", mode=\"r\") as f:\n",
    "    lines_with_atoms = []\n",
    "    for line in f:\n",
    "        if line.startswith(\"ATOM\"):\n",
    "            lines_with_atoms.append(line.split()[6:9])\n",
    "\n",
    "atom_coords = []\n",
    "for l in lines_with_atoms:\n",
    "    x = []\n",
    "    for floating_str_val in l:\n",
    "        x.append(float(floating_str_val))\n",
    "    atom_coords.append(x)\n",
    "    \n",
    "atom_coords = np.array(atom_coords)"
   ]
  },
  {
   "cell_type": "code",
   "execution_count": 4,
   "id": "59596b98-1073-45b7-9886-e273a8ecaccf",
   "metadata": {},
   "outputs": [],
   "source": [
    "from ripser import Rips\n",
    "from persim import plot_diagrams"
   ]
  },
  {
   "cell_type": "code",
   "execution_count": null,
   "id": "bc73978f-f7e9-45cd-b4e8-3042f8cf3da8",
   "metadata": {},
   "outputs": [],
   "source": [
    "# Too resource intensive, just hangs\n",
    "\n",
    "rips = Rips(maxdim=3)\n",
    "diagrams = rips.fit_transform(atom_coords)\n",
    "rips.plot(diagrams)"
   ]
  }
 ],
 "metadata": {
  "kernelspec": {
   "display_name": "Python 3",
   "language": "python",
   "name": "python3"
  },
  "language_info": {
   "codemirror_mode": {
    "name": "ipython",
    "version": 3
   },
   "file_extension": ".py",
   "mimetype": "text/x-python",
   "name": "python",
   "nbconvert_exporter": "python",
   "pygments_lexer": "ipython3",
   "version": "3.10.4"
  }
 },
 "nbformat": 4,
 "nbformat_minor": 5
}
